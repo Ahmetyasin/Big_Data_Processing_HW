{
  "nbformat": 4,
  "nbformat_minor": 0,
  "metadata": {
    "colab": {
      "provenance": []
    },
    "kernelspec": {
      "name": "python3",
      "display_name": "Python 3"
    },
    "language_info": {
      "name": "python"
    }
  },
  "cells": [
    {
      "cell_type": "code",
      "source": [
        "!apt-get install openjdk-8-jdk-headless -qq > /dev/null\n",
        "!wget -q https://archive.apache.org/dist/spark/spark-3.2.4/spark-3.2.4-bin-hadoop3.2.tgz\n",
        "!tar xf spark-3.2.4-bin-hadoop3.2.tgz\n",
        "!pip install -q findspark"
      ],
      "metadata": {
        "id": "O98eyBCKBgP3"
      },
      "execution_count": 1,
      "outputs": []
    },
    {
      "cell_type": "code",
      "source": [
        "import os\n",
        "os.environ[\"JAVA_HOME\"] = \"/usr/lib/jvm/java-8-openjdk-amd64\"\n",
        "os.environ[\"SPARK_HOME\"] = \"/content/spark-3.2.4-bin-hadoop3.2\""
      ],
      "metadata": {
        "id": "3AVcC8ISLwSv"
      },
      "execution_count": 2,
      "outputs": []
    },
    {
      "cell_type": "code",
      "source": [
        "import findspark\n",
        "findspark.init()\n",
        "findspark.find()"
      ],
      "metadata": {
        "id": "13OqbHeOzg24",
        "colab": {
          "base_uri": "https://localhost:8080/",
          "height": 35
        },
        "outputId": "c29df7d4-c776-4981-e091-8a905b85f2f0"
      },
      "execution_count": 3,
      "outputs": [
        {
          "output_type": "execute_result",
          "data": {
            "text/plain": [
              "'/content/spark-3.2.4-bin-hadoop3.2'"
            ],
            "application/vnd.google.colaboratory.intrinsic+json": {
              "type": "string"
            }
          },
          "metadata": {},
          "execution_count": 3
        }
      ]
    },
    {
      "cell_type": "code",
      "source": [
        "# İmporting libraries\n",
        "from pyspark import SparkContext\n",
        "from itertools import combinations\n",
        "import json\n",
        "\n",
        "#Initialize Spark Context\n",
        "sparkCtx = SparkContext.getOrCreate()\n",
        "\n",
        "#Read the file into RDD\n",
        "lotteryData = sparkCtx.textFile(\"/content/Lottery.txt\")\n",
        "\n",
        "#Function to split and prepare JSON strings\n",
        "def prepare_jsons(chunk):\n",
        "    jsons = []\n",
        "    accumulator = \"\"\n",
        "    for part in chunk:\n",
        "        accumulator += part\n",
        "        if accumulator.count('{') == accumulator.count('}'):\n",
        "            jsons.append(accumulator)\n",
        "            accumulator = \"\"\n",
        "    return jsons\n",
        "\n",
        "#Process and split into individual JSONs\n",
        "jsonStringsRDD = lotteryData.flatMap(prepare_jsons)\n",
        "\n",
        "#Convert string to JSON objects\n",
        "def to_json(string):\n",
        "    try:\n",
        "        return [json.loads(string)]\n",
        "    except:\n",
        "        return []\n",
        "\n",
        "jsonObjectsRDD = jsonStringsRDD.flatMap(to_json)\n",
        "\n",
        "# Extract numbers and generate triples\n",
        "def generate_triples(json_object):\n",
        "    numbers = json_object[\"data\"][\"rakamlar\"].split('#')\n",
        "    return combinations(numbers, 3)\n",
        "\n",
        "triplesRDD = jsonObjectsRDD.flatMap(generate_triples)\n",
        "\n",
        "#Count and sort\n",
        "triplesCount = triplesRDD.countByValue()\n",
        "sortedTriples = sorted(triplesCount.items(), key=lambda x: x[1], reverse=True)\n",
        "\n",
        "# Display results\n",
        "topTriple = sortedTriples[0]\n",
        "print(f\"The top recurring combination is: {topTriple[0]}, seen {topTriple[1]} times.\")\n",
        "\n",
        "# verification\n",
        "print(\"Few Combination Examples:\", triplesRDD.take(3))\n",
        "print(\"Few Number Sets:\", jsonObjectsRDD.map(lambda x: x[\"data\"][\"rakamlar\"].split('#')).take(3))\n"
      ],
      "metadata": {
        "colab": {
          "base_uri": "https://localhost:8080/"
        },
        "id": "4p3jPaW31RFE",
        "outputId": "0889e848-2626-49ce-81b4-58d29afb45de"
      },
      "execution_count": 30,
      "outputs": [
        {
          "output_type": "stream",
          "name": "stdout",
          "text": [
            "The top recurring combination is: ('23', '39', '47'), seen 7 times.\n",
            "Few Combination Examples: [('05', '15', '20'), ('05', '15', '32'), ('05', '15', '34')]\n",
            "Few Number Sets: [['05', '15', '20', '32', '34', '47'], ['03', '14', '16', '23', '27', '43'], ['06', '22', '26', '31', '38', '44']]\n"
          ]
        }
      ]
    },
    {
      "cell_type": "code",
      "source": [],
      "metadata": {
        "id": "iW9dGT1Q3bJ9"
      },
      "execution_count": null,
      "outputs": []
    }
  ]
}