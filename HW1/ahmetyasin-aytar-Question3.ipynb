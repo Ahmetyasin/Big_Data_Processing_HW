{
  "nbformat": 4,
  "nbformat_minor": 0,
  "metadata": {
    "colab": {
      "provenance": []
    },
    "kernelspec": {
      "name": "python3",
      "display_name": "Python 3"
    },
    "language_info": {
      "name": "python"
    }
  },
  "cells": [
    {
      "cell_type": "code",
      "source": [
        "!apt-get install openjdk-8-jdk-headless -qq > /dev/null\n",
        "!wget -q https://archive.apache.org/dist/spark/spark-3.2.4/spark-3.2.4-bin-hadoop3.2.tgz\n",
        "!tar xf spark-3.2.4-bin-hadoop3.2.tgz\n",
        "!pip install -q findspark"
      ],
      "metadata": {
        "id": "O98eyBCKBgP3"
      },
      "execution_count": 1,
      "outputs": []
    },
    {
      "cell_type": "code",
      "source": [
        "import os\n",
        "os.environ[\"JAVA_HOME\"] = \"/usr/lib/jvm/java-8-openjdk-amd64\"\n",
        "os.environ[\"SPARK_HOME\"] = \"/content/spark-3.2.4-bin-hadoop3.2\""
      ],
      "metadata": {
        "id": "3AVcC8ISLwSv"
      },
      "execution_count": 2,
      "outputs": []
    },
    {
      "cell_type": "code",
      "source": [
        "import findspark\n",
        "findspark.init()\n",
        "findspark.find()"
      ],
      "metadata": {
        "id": "13OqbHeOzg24",
        "colab": {
          "base_uri": "https://localhost:8080/",
          "height": 35
        },
        "outputId": "555bf77f-2487-4769-e7f9-7473033e75ee"
      },
      "execution_count": 3,
      "outputs": [
        {
          "output_type": "execute_result",
          "data": {
            "text/plain": [
              "'/content/spark-3.2.4-bin-hadoop3.2'"
            ],
            "application/vnd.google.colaboratory.intrinsic+json": {
              "type": "string"
            }
          },
          "metadata": {},
          "execution_count": 3
        }
      ]
    },
    {
      "cell_type": "code",
      "source": [
        "# İmporting libraries\n",
        "from pyspark import SparkContext\n",
        "import math\n",
        "from datetime import datetime, timedelta"
      ],
      "metadata": {
        "id": "KjQyWyVYTigN"
      },
      "execution_count": 4,
      "outputs": []
    },
    {
      "cell_type": "code",
      "source": [
        "#Load data\n",
        "data_rdd = spark_context.textFile(\"/content/Earthquakes.txt\")  # Replace with your path\n",
        "\n",
        "#Skip header\n",
        "header = data_rdd.first()\n",
        "lines = data_rdd.filter(lambda line: line != header)\n",
        "\n",
        "#Parsing line\n",
        "def parse_line(line):\n",
        "    fields = line.split(\"\\t\")\n",
        "    event_id = fields[1]\n",
        "    date = fields[2]\n",
        "    year = int(date.split(\".\")[0])\n",
        "    lat = float(fields[4])\n",
        "    lon = float(fields[5])\n",
        "    mag = float(fields[8])  # Using 'ML' as magnitude\n",
        "    return (year, date, lat, lon, mag, event_id)\n",
        "\n",
        "parsed_data = lines.map(parse_line)"
      ],
      "metadata": {
        "id": "ZK4J6z51s-y9"
      },
      "execution_count": 18,
      "outputs": []
    },
    {
      "cell_type": "code",
      "source": [
        "#Filter earthquakes between\n",
        "filtered_data = parsed_data.filter(lambda x: 1990 <= x[0] <= 2019)\n",
        "\n",
        "#Get top 10 earthquakes\n",
        "top_10_earthquakes = filtered_data.top(10, key=lambda x: x[4])\n",
        "\n",
        "# Haversine formula to compute distance between two points\n",
        "def haversine(lat1, lon1, lat2, lon2):\n",
        "    R = 6371  # Earth radius in kilometers\n",
        "    dLat = math.radians(lat2 - lat1)\n",
        "    dLon = math.radians(lon2 - lon1)\n",
        "\n",
        "    a = (math.sin(dLat/2) ** 2 +\n",
        "         math.cos(math.radians(lat1)) * math.cos(math.radians(lat2)) *\n",
        "         math.sin(dLon/2) ** 2)\n",
        "\n",
        "    distance = 2 * R * math.atan2(math.sqrt(a), math.sqrt(1-a))\n",
        "    return distance\n",
        "\n"
      ],
      "metadata": {
        "id": "fiNbWGQIs-wD"
      },
      "execution_count": 19,
      "outputs": []
    },
    {
      "cell_type": "code",
      "source": [
        "# Display potential foreshocks and aftershocks for top ten earthquakes\n",
        "for quake in top_10_earthquakes:\n",
        "    foreshocks, aftershocks = find_shocks(quake)\n",
        "\n",
        "    print(f\"\\nFor earthquake with Event ID: {quake[5]} on {quake[1]} with magnitude {quake[4]}:\")\n",
        "\n",
        "    print(\"\\nPotential Foreshocks:\")\n",
        "    for s in foreshocks:\n",
        "        print(f\"Event ID: {s[5]}, Date: {s[1]}, Magnitude: {s[4]}, Location: ({s[2]}, {s[3]})\")\n",
        "\n",
        "    print(\"\\nPotential Aftershocks:\")\n",
        "    for s in aftershocks:\n",
        "        print(f\"Event ID: {s[5]}, Date: {s[1]}, Magnitude: {s[4]}, Location: ({s[2]}, {s[3]})\")\n"
      ],
      "metadata": {
        "colab": {
          "base_uri": "https://localhost:8080/"
        },
        "id": "sk5YjJzJs-ph",
        "outputId": "5fda95e5-6dc0-497b-dfea-4cf12e59c179"
      },
      "execution_count": 20,
      "outputs": [
        {
          "output_type": "stream",
          "name": "stdout",
          "text": [
            "\n",
            "For earthquake with Event ID: 19990817000137 on 1999.08.17 with magnitude 6.7:\n",
            "\n",
            "Potential Foreshocks:\n",
            "Event ID: 19990817151752, Date: 1999.08.17, Magnitude: 4.1, Location: (40.75, 29.75)\n",
            "\n",
            "Potential Aftershocks:\n",
            "Event ID: 19990818211738, Date: 1999.08.18, Magnitude: 4.0, Location: (40.86, 30.04)\n",
            "Event ID: 19990817151752, Date: 1999.08.17, Magnitude: 4.1, Location: (40.75, 29.75)\n",
            "\n",
            "For earthquake with Event ID: 19980627135551 on 1998.06.27 with magnitude 6.3:\n",
            "\n",
            "Potential Foreshocks:\n",
            "Event ID: 19980627205016, Date: 1998.06.27, Magnitude: 4.1, Location: (36.84, 35.56)\n",
            "Event ID: 19980627200307, Date: 1998.06.27, Magnitude: 3.7, Location: (36.97, 35.65)\n",
            "Event ID: 19980627185439, Date: 1998.06.27, Magnitude: 4.0, Location: (37.01, 35.68)\n",
            "Event ID: 19980627151218, Date: 1998.06.27, Magnitude: 3.5, Location: (36.97, 35.7)\n",
            "Event ID: 19980627140737, Date: 1998.06.27, Magnitude: 4.2, Location: (36.81, 35.61)\n",
            "\n",
            "Potential Aftershocks:\n",
            "Event ID: 19980628152034, Date: 1998.06.28, Magnitude: 4.1, Location: (36.95, 35.63)\n",
            "Event ID: 19980628035924, Date: 1998.06.28, Magnitude: 4.9, Location: (37.0, 35.68)\n",
            "Event ID: 19980627205016, Date: 1998.06.27, Magnitude: 4.1, Location: (36.84, 35.56)\n",
            "Event ID: 19980627200307, Date: 1998.06.27, Magnitude: 3.7, Location: (36.97, 35.65)\n",
            "Event ID: 19980627185439, Date: 1998.06.27, Magnitude: 4.0, Location: (37.01, 35.68)\n",
            "Event ID: 19980627151218, Date: 1998.06.27, Magnitude: 3.5, Location: (36.97, 35.7)\n",
            "Event ID: 19980627140737, Date: 1998.06.27, Magnitude: 4.2, Location: (36.81, 35.61)\n",
            "\n",
            "For earthquake with Event ID: 20030501002704 on 2003.05.01 with magnitude 6.2:\n",
            "\n",
            "Potential Foreshocks:\n",
            "Event ID: 20030501191031, Date: 2003.05.01, Magnitude: 3.5, Location: (39.04, 40.48)\n",
            "Event ID: 20030501181614, Date: 2003.05.01, Magnitude: 3.8, Location: (38.97, 40.44)\n",
            "Event ID: 20030501164052, Date: 2003.05.01, Magnitude: 3.6, Location: (39.05, 40.41)\n",
            "Event ID: 20030501115138, Date: 2003.05.01, Magnitude: 3.6, Location: (39.07, 40.46)\n",
            "Event ID: 20030501103145, Date: 2003.05.01, Magnitude: 3.9, Location: (38.98, 40.36)\n",
            "Event ID: 20030501093552, Date: 2003.05.01, Magnitude: 4.0, Location: (38.97, 40.52)\n",
            "Event ID: 20030501084056, Date: 2003.05.01, Magnitude: 3.5, Location: (39.01, 40.42)\n",
            "Event ID: 20030501065337, Date: 2003.05.01, Magnitude: 3.5, Location: (39.07, 40.43)\n",
            "Event ID: 20030501063444, Date: 2003.05.01, Magnitude: 4.2, Location: (39.07, 40.26)\n",
            "Event ID: 20030501015749, Date: 2003.05.01, Magnitude: 3.5, Location: (39.04, 40.5)\n",
            "Event ID: 20030501014829, Date: 2003.05.01, Magnitude: 3.7, Location: (39.05, 40.48)\n",
            "Event ID: 20030501013126, Date: 2003.05.01, Magnitude: 3.7, Location: (38.91, 40.39)\n",
            "Event ID: 20030501012117, Date: 2003.05.01, Magnitude: 3.5, Location: (39.02, 40.49)\n",
            "Event ID: 20030501011422, Date: 2003.05.01, Magnitude: 3.5, Location: (38.99, 40.38)\n",
            "Event ID: 20030501010133, Date: 2003.05.01, Magnitude: 3.5, Location: (39.01, 40.33)\n",
            "Event ID: 20030501004158, Date: 2003.05.01, Magnitude: 4.1, Location: (39.0, 40.37)\n",
            "\n",
            "Potential Aftershocks:\n",
            "Event ID: 20030502235634, Date: 2003.05.02, Magnitude: 3.5, Location: (39.04, 40.43)\n",
            "Event ID: 20030502211818, Date: 2003.05.02, Magnitude: 3.8, Location: (38.95, 40.46)\n",
            "Event ID: 20030502153129, Date: 2003.05.02, Magnitude: 3.5, Location: (39.06, 40.44)\n",
            "Event ID: 20030502140916, Date: 2003.05.02, Magnitude: 3.6, Location: (39.12, 40.47)\n",
            "Event ID: 20030502071246, Date: 2003.05.02, Magnitude: 3.6, Location: (38.94, 40.53)\n",
            "Event ID: 20030502035202, Date: 2003.05.02, Magnitude: 3.8, Location: (38.98, 40.46)\n",
            "Event ID: 20030502030155, Date: 2003.05.02, Magnitude: 3.9, Location: (39.02, 40.4)\n",
            "Event ID: 20030502014514, Date: 2003.05.02, Magnitude: 3.7, Location: (38.97, 40.51)\n",
            "Event ID: 20030502003602, Date: 2003.05.02, Magnitude: 3.6, Location: (39.02, 40.53)\n",
            "Event ID: 20030502002215, Date: 2003.05.02, Magnitude: 3.8, Location: (38.98, 40.4)\n",
            "Event ID: 20030502000113, Date: 2003.05.02, Magnitude: 3.7, Location: (38.96, 40.53)\n",
            "Event ID: 20030501191031, Date: 2003.05.01, Magnitude: 3.5, Location: (39.04, 40.48)\n",
            "Event ID: 20030501181614, Date: 2003.05.01, Magnitude: 3.8, Location: (38.97, 40.44)\n",
            "Event ID: 20030501164052, Date: 2003.05.01, Magnitude: 3.6, Location: (39.05, 40.41)\n",
            "Event ID: 20030501115138, Date: 2003.05.01, Magnitude: 3.6, Location: (39.07, 40.46)\n",
            "Event ID: 20030501103145, Date: 2003.05.01, Magnitude: 3.9, Location: (38.98, 40.36)\n",
            "Event ID: 20030501093552, Date: 2003.05.01, Magnitude: 4.0, Location: (38.97, 40.52)\n",
            "Event ID: 20030501084056, Date: 2003.05.01, Magnitude: 3.5, Location: (39.01, 40.42)\n",
            "Event ID: 20030501065337, Date: 2003.05.01, Magnitude: 3.5, Location: (39.07, 40.43)\n",
            "Event ID: 20030501063444, Date: 2003.05.01, Magnitude: 4.2, Location: (39.07, 40.26)\n",
            "Event ID: 20030501015749, Date: 2003.05.01, Magnitude: 3.5, Location: (39.04, 40.5)\n",
            "Event ID: 20030501014829, Date: 2003.05.01, Magnitude: 3.7, Location: (39.05, 40.48)\n",
            "Event ID: 20030501013126, Date: 2003.05.01, Magnitude: 3.7, Location: (38.91, 40.39)\n",
            "Event ID: 20030501012117, Date: 2003.05.01, Magnitude: 3.5, Location: (39.02, 40.49)\n",
            "Event ID: 20030501011422, Date: 2003.05.01, Magnitude: 3.5, Location: (38.99, 40.38)\n",
            "Event ID: 20030501010133, Date: 2003.05.01, Magnitude: 3.5, Location: (39.01, 40.33)\n",
            "Event ID: 20030501004158, Date: 2003.05.01, Magnitude: 4.1, Location: (39.0, 40.37)\n",
            "\n",
            "For earthquake with Event ID: 20030127052628 on 2003.01.27 with magnitude 6.1:\n",
            "\n",
            "Potential Foreshocks:\n",
            "Event ID: 20030127155739, Date: 2003.01.27, Magnitude: 4.1, Location: (39.51, 39.84)\n",
            "Event ID: 20030127093110, Date: 2003.01.27, Magnitude: 3.6, Location: (39.47, 39.74)\n",
            "Event ID: 20030127081240, Date: 2003.01.27, Magnitude: 3.7, Location: (39.44, 39.7)\n",
            "Event ID: 20030127070921, Date: 2003.01.27, Magnitude: 3.8, Location: (39.41, 39.69)\n",
            "Event ID: 20030127061727, Date: 2003.01.27, Magnitude: 3.5, Location: (39.5, 39.79)\n",
            "Event ID: 20030127061319, Date: 2003.01.27, Magnitude: 3.5, Location: (39.56, 39.85)\n",
            "Event ID: 20030127055303, Date: 2003.01.27, Magnitude: 3.7, Location: (39.48, 39.73)\n",
            "\n",
            "Potential Aftershocks:\n",
            "Event ID: 20030128171717, Date: 2003.01.28, Magnitude: 3.7, Location: (39.49, 39.74)\n",
            "Event ID: 20030127155739, Date: 2003.01.27, Magnitude: 4.1, Location: (39.51, 39.84)\n",
            "Event ID: 20030127093110, Date: 2003.01.27, Magnitude: 3.6, Location: (39.47, 39.74)\n",
            "Event ID: 20030127081240, Date: 2003.01.27, Magnitude: 3.7, Location: (39.44, 39.7)\n",
            "Event ID: 20030127070921, Date: 2003.01.27, Magnitude: 3.8, Location: (39.41, 39.69)\n",
            "Event ID: 20030127061727, Date: 2003.01.27, Magnitude: 3.5, Location: (39.5, 39.79)\n",
            "Event ID: 20030127061319, Date: 2003.01.27, Magnitude: 3.5, Location: (39.56, 39.85)\n",
            "Event ID: 20030127055303, Date: 2003.01.27, Magnitude: 3.7, Location: (39.48, 39.73)\n",
            "\n",
            "For earthquake with Event ID: 20020203071128 on 2002.02.03 with magnitude 6.1:\n",
            "\n",
            "Potential Foreshocks:\n",
            "Event ID: 20020203203109, Date: 2002.02.03, Magnitude: 3.7, Location: (38.56, 31.19)\n",
            "Event ID: 20020203144722, Date: 2002.02.03, Magnitude: 3.5, Location: (38.69, 31.23)\n",
            "Event ID: 20020203144519, Date: 2002.02.03, Magnitude: 3.5, Location: (38.74, 31.18)\n",
            "Event ID: 20020203144055, Date: 2002.02.03, Magnitude: 4.0, Location: (38.61, 31.23)\n",
            "Event ID: 20020203104837, Date: 2002.02.03, Magnitude: 3.5, Location: (38.62, 31.23)\n",
            "Event ID: 20020203103937, Date: 2002.02.03, Magnitude: 3.6, Location: (38.63, 31.25)\n",
            "Event ID: 20020203102148, Date: 2002.02.03, Magnitude: 3.5, Location: (38.62, 31.2)\n",
            "Event ID: 20020203100014, Date: 2002.02.03, Magnitude: 4.0, Location: (38.61, 31.2)\n",
            "\n",
            "Potential Aftershocks:\n",
            "Event ID: 20020204100656, Date: 2002.02.04, Magnitude: 3.6, Location: (38.6, 31.12)\n",
            "Event ID: 20020204033906, Date: 2002.02.04, Magnitude: 3.8, Location: (38.54, 31.26)\n",
            "Event ID: 20020203203109, Date: 2002.02.03, Magnitude: 3.7, Location: (38.56, 31.19)\n",
            "Event ID: 20020203144722, Date: 2002.02.03, Magnitude: 3.5, Location: (38.69, 31.23)\n",
            "Event ID: 20020203144519, Date: 2002.02.03, Magnitude: 3.5, Location: (38.74, 31.18)\n",
            "Event ID: 20020203144055, Date: 2002.02.03, Magnitude: 4.0, Location: (38.61, 31.23)\n",
            "Event ID: 20020203104837, Date: 2002.02.03, Magnitude: 3.5, Location: (38.62, 31.23)\n",
            "Event ID: 20020203103937, Date: 2002.02.03, Magnitude: 3.6, Location: (38.63, 31.25)\n",
            "Event ID: 20020203102148, Date: 2002.02.03, Magnitude: 3.5, Location: (38.62, 31.2)\n",
            "Event ID: 20020203100014, Date: 2002.02.03, Magnitude: 4.0, Location: (38.61, 31.2)\n",
            "\n",
            "For earthquake with Event ID: 20020203092644 on 2002.02.03 with magnitude 5.9:\n",
            "\n",
            "Potential Foreshocks:\n",
            "Event ID: 20020203211311, Date: 2002.02.03, Magnitude: 3.6, Location: (38.65, 30.85)\n",
            "Event ID: 20020203115434, Date: 2002.02.03, Magnitude: 4.5, Location: (38.63, 31.01)\n",
            "Event ID: 20020203113955, Date: 2002.02.03, Magnitude: 4.6, Location: (38.65, 31.01)\n",
            "Event ID: 20020203101542, Date: 2002.02.03, Magnitude: 3.5, Location: (38.69, 30.81)\n",
            "Event ID: 20020203095558, Date: 2002.02.03, Magnitude: 4.0, Location: (38.59, 30.87)\n",
            "Event ID: 20020203093828, Date: 2002.02.03, Magnitude: 3.5, Location: (38.68, 30.8)\n",
            "Event ID: 20020203075741, Date: 2002.02.03, Magnitude: 3.5, Location: (38.75, 30.94)\n",
            "Event ID: 20020203071436, Date: 2002.02.03, Magnitude: 5.2, Location: (38.7, 30.87)\n",
            "\n",
            "Potential Aftershocks:\n",
            "Event ID: 20020204210304, Date: 2002.02.04, Magnitude: 3.6, Location: (38.69, 30.82)\n",
            "Event ID: 20020203211311, Date: 2002.02.03, Magnitude: 3.6, Location: (38.65, 30.85)\n",
            "Event ID: 20020203115434, Date: 2002.02.03, Magnitude: 4.5, Location: (38.63, 31.01)\n",
            "Event ID: 20020203113955, Date: 2002.02.03, Magnitude: 4.6, Location: (38.65, 31.01)\n",
            "Event ID: 20020203101542, Date: 2002.02.03, Magnitude: 3.5, Location: (38.69, 30.81)\n",
            "Event ID: 20020203095558, Date: 2002.02.03, Magnitude: 4.0, Location: (38.59, 30.87)\n",
            "Event ID: 20020203093828, Date: 2002.02.03, Magnitude: 3.5, Location: (38.68, 30.8)\n",
            "Event ID: 20020203075741, Date: 2002.02.03, Magnitude: 3.5, Location: (38.75, 30.94)\n",
            "Event ID: 20020203071436, Date: 2002.02.03, Magnitude: 5.2, Location: (38.7, 30.87)\n",
            "\n",
            "For earthquake with Event ID: 20020122045354 on 2002.01.22 with magnitude 5.9:\n",
            "\n",
            "Potential Foreshocks:\n",
            "\n",
            "Potential Aftershocks:\n",
            "\n",
            "For earthquake with Event ID: 20001215164444 on 2000.12.15 with magnitude 5.8:\n",
            "\n",
            "Potential Foreshocks:\n",
            "Event ID: 20001215193553, Date: 2000.12.15, Magnitude: 3.6, Location: (38.57, 31.26)\n",
            "Event ID: 20001215190032, Date: 2000.12.15, Magnitude: 3.5, Location: (38.51, 31.22)\n",
            "Event ID: 20001215172724, Date: 2000.12.15, Magnitude: 3.7, Location: (38.5, 31.24)\n",
            "Event ID: 20001215172236, Date: 2000.12.15, Magnitude: 3.8, Location: (38.54, 31.24)\n",
            "Event ID: 20001215171940, Date: 2000.12.15, Magnitude: 3.8, Location: (38.58, 31.22)\n",
            "\n",
            "Potential Aftershocks:\n",
            "Event ID: 20001216064242, Date: 2000.12.16, Magnitude: 3.5, Location: (38.55, 31.18)\n",
            "Event ID: 20001216021303, Date: 2000.12.16, Magnitude: 3.6, Location: (38.61, 31.24)\n",
            "Event ID: 20001216021023, Date: 2000.12.16, Magnitude: 3.6, Location: (38.56, 31.3)\n",
            "Event ID: 20001215193553, Date: 2000.12.15, Magnitude: 3.6, Location: (38.57, 31.26)\n",
            "Event ID: 20001215190032, Date: 2000.12.15, Magnitude: 3.5, Location: (38.51, 31.22)\n",
            "Event ID: 20001215172724, Date: 2000.12.15, Magnitude: 3.7, Location: (38.5, 31.24)\n",
            "Event ID: 20001215172236, Date: 2000.12.15, Magnitude: 3.8, Location: (38.54, 31.24)\n",
            "Event ID: 20001215171940, Date: 2000.12.15, Magnitude: 3.8, Location: (38.58, 31.22)\n",
            "\n",
            "For earthquake with Event ID: 19990913115528 on 1999.09.13 with magnitude 5.8:\n",
            "\n",
            "Potential Foreshocks:\n",
            "\n",
            "Potential Aftershocks:\n",
            "\n",
            "For earthquake with Event ID: 19991111144125 on 1999.11.11 with magnitude 5.7:\n",
            "\n",
            "Potential Foreshocks:\n",
            "Event ID: 19991111145525, Date: 1999.11.11, Magnitude: 4.4, Location: (40.88, 30.3)\n",
            "\n",
            "Potential Aftershocks:\n",
            "Event ID: 19991111145525, Date: 1999.11.11, Magnitude: 4.4, Location: (40.88, 30.3)\n"
          ]
        }
      ]
    }
  ]
}