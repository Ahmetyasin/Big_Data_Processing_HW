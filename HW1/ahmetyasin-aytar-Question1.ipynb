{
  "cells": [
    {
      "cell_type": "code",
      "execution_count": null,
      "metadata": {
        "id": "O98eyBCKBgP3"
      },
      "outputs": [],
      "source": [
        "!apt-get install openjdk-8-jdk-headless -qq > /dev/null\n",
        "!wget -q https://archive.apache.org/dist/spark/spark-3.2.4/spark-3.2.4-bin-hadoop3.2.tgz\n",
        "!tar xf spark-3.2.4-bin-hadoop3.2.tgz\n",
        "!pip install -q findspark"
      ]
    },
    {
      "cell_type": "code",
      "execution_count": 28,
      "metadata": {
        "id": "3AVcC8ISLwSv"
      },
      "outputs": [],
      "source": [
        "import os\n",
        "os.environ[\"JAVA_HOME\"] = \"/usr/lib/jvm/java-8-openjdk-amd64\"\n",
        "os.environ[\"SPARK_HOME\"] = \"/content/spark-3.2.4-bin-hadoop3.2\""
      ]
    },
    {
      "cell_type": "code",
      "execution_count": 29,
      "metadata": {
        "colab": {
          "base_uri": "https://localhost:8080/",
          "height": 35
        },
        "id": "13OqbHeOzg24",
        "outputId": "27cde532-7d5f-4755-d07c-f68a7dda2141"
      },
      "outputs": [
        {
          "data": {
            "application/vnd.google.colaboratory.intrinsic+json": {
              "type": "string"
            },
            "text/plain": [
              "'/content/spark-3.2.4-bin-hadoop3.2'"
            ]
          },
          "execution_count": 29,
          "metadata": {},
          "output_type": "execute_result"
        }
      ],
      "source": [
        "import findspark\n",
        "findspark.init()\n",
        "findspark.find()"
      ]
    },
    {
      "cell_type": "code",
      "execution_count": 35,
      "metadata": {
        "id": "KjQyWyVYTigN"
      },
      "outputs": [],
      "source": [
        "# İmporting libraries\n",
        "import math\n",
        "from pyspark import SparkContext"
      ]
    },
    {
      "cell_type": "code",
      "execution_count": 36,
      "metadata": {
        "colab": {
          "base_uri": "https://localhost:8080/"
        },
        "id": "kmEyKHjFTidW",
        "outputId": "26091909-e86c-4c5f-f893-87a698f1e568"
      },
      "outputs": [
        {
          "name": "stdout",
          "output_type": "stream",
          "text": [
            "Afghanistan Flag Icon \tAfghanistan \tKabul \t34,53 \t69,17\t\n"
          ]
        }
      ],
      "source": [
        "# Initialize Spark context\n",
        "spark_context = SparkContext.getOrCreate()\n",
        "capital_data = spark_context.textFile(\"/content/Capitals.txt\")\n",
        "print(capital_data.first())"
      ]
    },
    {
      "cell_type": "code",
      "execution_count": 37,
      "metadata": {
        "colab": {
          "base_uri": "https://localhost:8080/"
        },
        "id": "_nTZaV4XcQlb",
        "outputId": "c87d2dd9-09d9-4ae2-a578-8021f8367e80"
      },
      "outputs": [
        {
          "name": "stdout",
          "output_type": "stream",
          "text": [
            "[('Afghanistan ', 'Kabul ', 87.0, 86.0), ('Albania ', 'Tirana ', 74.0, 101.0), ('Algeria ', 'Algiers ', 111.0, 7.0)]\n"
          ]
        }
      ],
      "source": [
        "# Extracting required information from each line\n",
        "def get_info_from_line(line):\n",
        "    split_data = line.split(\"\\t\")\n",
        "    country_name = split_data[1]\n",
        "    city_name = split_data[2]\n",
        "    lat_parts = split_data[3].split(\",\")\n",
        "    lon_parts = split_data[4].split(\",\")\n",
        "    latitude = float(lat_parts[0]) + float(lat_parts[1])\n",
        "    longitude = float(lon_parts[0]) + float(lon_parts[1])\n",
        "    return (country_name, city_name, latitude, longitude)\n",
        "\n",
        "parsed_data = capitals_data.map(get_info_from_line)\n",
        "print(parsed_data.take(3))"
      ]
    },
    {
      "cell_type": "code",
      "execution_count": 38,
      "metadata": {
        "colab": {
          "base_uri": "https://localhost:8080/"
        },
        "id": "9LyEEQfRcRsH",
        "outputId": "ad2e71fb-e9be-4fe9-d55a-6029b56199e3"
      },
      "outputs": [
        {
          "name": "stdout",
          "output_type": "stream",
          "text": [
            "[(('Afghanistan ', 'Kabul ', 87.0, 86.0), ('Albania ', 'Tirana ', 74.0, 101.0)), (('Afghanistan ', 'Kabul ', 87.0, 86.0), ('Algeria ', 'Algiers ', 111.0, 7.0)), (('Afghanistan ', 'Kabul ', 87.0, 86.0), ('American Samoa ', 'Pago Pago ', 14.0, -100.0))]\n",
            "57838\n"
          ]
        }
      ],
      "source": [
        "# Generate city pairs\n",
        "city_combinations = parsed_data.cartesian(parsed_data)\n",
        "different_city_pairs = city_combinations.filter(lambda pair: pair[0][1] != pair[1][1])\n",
        "print(different_city_pairs.take(3))\n",
        "print(different_city_pairs.count())\n"
      ]
    },
    {
      "cell_type": "code",
      "execution_count": 39,
      "metadata": {
        "colab": {
          "base_uri": "https://localhost:8080/"
        },
        "id": "_lW6km94cRdp",
        "outputId": "f793ddf3-4617-47b1-ddf0-cf67876c61f5"
      },
      "outputs": [
        {
          "name": "stdout",
          "output_type": "stream",
          "text": [
            "The two closest capital cities are Jerusalem  and East Jerusalem , and the distance between them is 0.00 unit.\n"
          ]
        }
      ],
      "source": [
        "# Calculate distance between cities\n",
        "def calculate_distance(city_pair):\n",
        "    city1 = city_pair[0]\n",
        "    city2 = city_pair[1]\n",
        "\n",
        "    lat1 = city1[2]\n",
        "    lon1 = city1[3]\n",
        "    lat2 = city2[2]\n",
        "    lon2 = city2[3]\n",
        "\n",
        "    d_lat = lat2 - lat1\n",
        "    d_lon = lon2 - lon1\n",
        "    #Haversine formula taken from the internet\n",
        "    a_val = math.sin(d_lat/2)**2 + math.cos(lat1) * math.cos(lat2) * math.sin(d_lon/2)**2\n",
        "    c_val = 2 * math.atan2(math.sqrt(a_val), math.sqrt(1-a_val))\n",
        "    distance_in_km = 6371 * c_val\n",
        "    return ((city1[1], city2[1]), distance_in_km)\n",
        "\n",
        "city_distances = different_city_pairs.map(calculate_distance)\n",
        "closest_pair = city_distances.min(key=lambda x: x[1])\n",
        "\n",
        "print(\"The two closest capital cities are {} and {}, and the distance between them is {:.2f} unit.\".format(closest_pair[0][0], closest_pair[0][1], closest_pair[1]))\n"
      ]
    }
  ],
  "metadata": {
    "colab": {
      "provenance": []
    },
    "kernelspec": {
      "display_name": "Python 3",
      "name": "python3"
    },
    "language_info": {
      "name": "python"
    }
  },
  "nbformat": 4,
  "nbformat_minor": 0
}
