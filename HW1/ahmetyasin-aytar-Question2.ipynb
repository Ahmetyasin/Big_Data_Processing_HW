{
  "nbformat": 4,
  "nbformat_minor": 0,
  "metadata": {
    "colab": {
      "provenance": []
    },
    "kernelspec": {
      "name": "python3",
      "display_name": "Python 3"
    },
    "language_info": {
      "name": "python"
    }
  },
  "cells": [
    {
      "cell_type": "code",
      "source": [
        "!apt-get install openjdk-8-jdk-headless -qq > /dev/null\n",
        "!wget -q https://archive.apache.org/dist/spark/spark-3.2.4/spark-3.2.4-bin-hadoop3.2.tgz\n",
        "!tar xf spark-3.2.4-bin-hadoop3.2.tgz\n",
        "!pip install -q findspark"
      ],
      "metadata": {
        "id": "O98eyBCKBgP3"
      },
      "execution_count": 1,
      "outputs": []
    },
    {
      "cell_type": "code",
      "source": [
        "import os\n",
        "os.environ[\"JAVA_HOME\"] = \"/usr/lib/jvm/java-8-openjdk-amd64\"\n",
        "os.environ[\"SPARK_HOME\"] = \"/content/spark-3.2.4-bin-hadoop3.2\""
      ],
      "metadata": {
        "id": "3AVcC8ISLwSv"
      },
      "execution_count": 2,
      "outputs": []
    },
    {
      "cell_type": "code",
      "source": [
        "import findspark\n",
        "findspark.init()\n",
        "findspark.find()"
      ],
      "metadata": {
        "id": "13OqbHeOzg24",
        "colab": {
          "base_uri": "https://localhost:8080/",
          "height": 35
        },
        "outputId": "0c6ecaae-0118-485c-903e-74407c511de1"
      },
      "execution_count": 3,
      "outputs": [
        {
          "output_type": "execute_result",
          "data": {
            "text/plain": [
              "'/content/spark-3.2.4-bin-hadoop3.2'"
            ],
            "application/vnd.google.colaboratory.intrinsic+json": {
              "type": "string"
            }
          },
          "metadata": {},
          "execution_count": 3
        }
      ]
    },
    {
      "cell_type": "code",
      "source": [
        "#importing libraries\n",
        "from pyspark import SparkContext\n",
        "from math import radians, sin, cos, sqrt, atan2"
      ],
      "metadata": {
        "id": "a5aEwxdCg4Vf"
      },
      "execution_count": null,
      "outputs": []
    },
    {
      "cell_type": "code",
      "source": [
        "sc = SparkContext.getOrCreate()\n",
        "data_path = \"/content/Capitals.txt\"\n",
        "\n",
        "#Extracting the data in a useful manner\n",
        "def extract_data(entry):\n",
        "    components = entry.split(\"\\t\")\n",
        "    country, capital = components[1], components[2]\n",
        "    lat, lon = map(lambda x: float(x.replace(',', '.')), [components[3], components[4]])\n",
        "    return (country, capital, lat, lon)\n",
        "\n",
        "parsed_data = sc.textFile(data_path).map(extract_data)"
      ],
      "metadata": {
        "id": "0RKFpV-tf3aH"
      },
      "execution_count": 7,
      "outputs": []
    },
    {
      "cell_type": "code",
      "source": [
        "#Computing the distances\n",
        "def compute_distance(data1, data2):\n",
        "    R = 6371.0  # Earth's radius in km\n",
        "    lat1, lon1 = radians(data1[2]), radians(data1[3])\n",
        "    lat2, lon2 = radians(data2[2]), radians(data2[3])\n",
        "\n",
        "    dlat = lat2 - lat1\n",
        "    dlon = lon2 - lon1\n",
        "\n",
        "    a = sin(dlat / 2)**2 + cos(lat1) * cos(lat2) * sin(dlon / 2)**2\n",
        "    distance = R * 2 * atan2(sqrt(a), sqrt(1 - a))\n",
        "    return distance\n",
        "\n",
        "combinations = parsed_data.cartesian(parsed_data).filter(lambda pair: pair[0][1] != pair[1][1])\n",
        "\n",
        "distances = combinations.map(lambda pair: ((pair[0][1], pair[1][1]), compute_distance(pair[0], pair[1])))\n"
      ],
      "metadata": {
        "id": "NvzjxlT3f4SL"
      },
      "execution_count": 8,
      "outputs": []
    },
    {
      "cell_type": "code",
      "source": [
        "#Finding farthest cities\n",
        "max_dist_pair = distances.max(key=lambda item: item[1])\n",
        "\n",
        "print(f\"The two farthest capital cities are {max_dist_pair[0][0]} and {max_dist_pair[0][1]}, and the distance between them is {max_dist_pair[1]:.2f} km.\")\n"
      ],
      "metadata": {
        "colab": {
          "base_uri": "https://localhost:8080/"
        },
        "id": "M_Y216o2hG24",
        "outputId": "190cd1df-5450-4965-dffc-e28fe277e05a"
      },
      "execution_count": 9,
      "outputs": [
        {
          "output_type": "stream",
          "name": "stdout",
          "text": [
            "The two farthest capital cities are Asunción  and Taipei , and the distance between them is 19927.06 km.\n"
          ]
        }
      ]
    },
    {
      "cell_type": "code",
      "source": [],
      "metadata": {
        "id": "2JDg1B4Nha5G"
      },
      "execution_count": null,
      "outputs": []
    }
  ]
}