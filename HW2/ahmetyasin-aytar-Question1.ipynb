{
  "cells": [
    {
      "cell_type": "code",
      "execution_count": 2,
      "metadata": {
        "id": "O98eyBCKBgP3"
      },
      "outputs": [],
      "source": [
        "!apt-get install openjdk-8-jdk-headless -qq > /dev/null\n",
        "!wget -q https://archive.apache.org/dist/spark/spark-3.2.4/spark-3.2.4-bin-hadoop3.2.tgz\n",
        "!tar xf spark-3.2.4-bin-hadoop3.2.tgz\n",
        "!pip install -q findspark"
      ]
    },
    {
      "cell_type": "code",
      "execution_count": 3,
      "metadata": {
        "id": "3AVcC8ISLwSv"
      },
      "outputs": [],
      "source": [
        "import os\n",
        "os.environ[\"JAVA_HOME\"] = \"/usr/lib/jvm/java-8-openjdk-amd64\"\n",
        "os.environ[\"SPARK_HOME\"] = \"/content/spark-3.2.4-bin-hadoop3.2\""
      ]
    },
    {
      "cell_type": "code",
      "execution_count": 4,
      "metadata": {
        "colab": {
          "base_uri": "https://localhost:8080/",
          "height": 35
        },
        "id": "13OqbHeOzg24",
        "outputId": "ec08d264-2840-49d0-9d1d-d78e6212f61c"
      },
      "outputs": [
        {
          "output_type": "execute_result",
          "data": {
            "text/plain": [
              "'/content/spark-3.2.4-bin-hadoop3.2'"
            ],
            "application/vnd.google.colaboratory.intrinsic+json": {
              "type": "string"
            }
          },
          "metadata": {},
          "execution_count": 4
        }
      ],
      "source": [
        "import findspark\n",
        "findspark.init()\n",
        "findspark.find()"
      ]
    },
    {
      "cell_type": "code",
      "source": [
        "# Importing libraries\n",
        "from pyspark.sql import SparkSession\n",
        "from pyspark.sql.functions import avg"
      ],
      "metadata": {
        "id": "tDKvfcbYkx-I"
      },
      "execution_count": 10,
      "outputs": []
    },
    {
      "cell_type": "code",
      "source": [
        "# Initialize Spark Session\n",
        "spark = SparkSession.builder.appName(\"Movie Tags Analysis\").getOrCreate()"
      ],
      "metadata": {
        "id": "_OCFlBlsky67"
      },
      "execution_count": 11,
      "outputs": []
    },
    {
      "cell_type": "code",
      "source": [
        "# Load the datasets into DataFrames\n",
        "links_df = spark.read.csv(\"/content/links.csv\", header=True, inferSchema=True)\n",
        "tags_df = spark.read.csv(\"/content/tags.csv\", header=True, inferSchema=True)\n",
        "ratings_df = spark.read.csv(\"/content/ratings.csv\", header=True, inferSchema=True)\n",
        "movies_df = spark.read.csv(\"/content/movies.csv\", header=True, inferSchema=True)"
      ],
      "metadata": {
        "id": "IKVXMdSVkzNt"
      },
      "execution_count": 12,
      "outputs": []
    },
    {
      "cell_type": "code",
      "source": [
        "# Left Join the DataFrames\n",
        "joined_df = tags_df.join(ratings_df, [\"movieId\"], \"left\").join(movies_df, [\"movieId\"], \"left_outer\")\n"
      ],
      "metadata": {
        "id": "2wGUwSnUk7vs"
      },
      "execution_count": 13,
      "outputs": []
    },
    {
      "cell_type": "code",
      "source": [
        "# Calculate the average ratings\n",
        "avg_ratings = joined_df.groupBy(\"tag\").agg(avg(\"rating\").alias(\"avg_rating\"))"
      ],
      "metadata": {
        "id": "mXOXVAmwk8oX"
      },
      "execution_count": 14,
      "outputs": []
    },
    {
      "cell_type": "code",
      "source": [
        "# Sort by average rating\n",
        "sorted_avg_ratings = avg_ratings.orderBy(\"avg_rating\", ascending=False)\n",
        "\n",
        "sorted_avg_ratings.show()"
      ],
      "metadata": {
        "colab": {
          "base_uri": "https://localhost:8080/"
        },
        "id": "N_Da24-tlKGN",
        "outputId": "51f94999-8bba-46d6-9444-060c8602d046"
      },
      "execution_count": 15,
      "outputs": [
        {
          "output_type": "stream",
          "name": "stdout",
          "text": [
            "+--------------------+-----------------+\n",
            "|                 tag|       avg_rating|\n",
            "+--------------------+-----------------+\n",
            "|          procedural|              5.0|\n",
            "|          creativity|              5.0|\n",
            "|    free to download|              5.0|\n",
            "|        human rights|              5.0|\n",
            "|         no dialogue|              5.0|\n",
            "|             parrots|             4.75|\n",
            "|   thought provoking|             4.75|\n",
            "|            jon hamm|             4.75|\n",
            "|            Dystopia|             4.75|\n",
            "| movies about movies|4.666666666666667|\n",
            "|           prejudice|4.545454545454546|\n",
            "|interracial marriage|4.545454545454546|\n",
            "|        Metaphorical|              4.5|\n",
            "|             freedom|              4.5|\n",
            "|political right v...|              4.5|\n",
            "|        good writing|              4.5|\n",
            "|               crazy|              4.5|\n",
            "|       individualism|              4.5|\n",
            "|     black-and-white|              4.5|\n",
            "|the catholic chur...|              4.5|\n",
            "+--------------------+-----------------+\n",
            "only showing top 20 rows\n",
            "\n"
          ]
        }
      ]
    },
    {
      "cell_type": "markdown",
      "source": [
        "Checking if the number of unique tags are equal in tags_df and sorted_avg_ratings"
      ],
      "metadata": {
        "id": "8oMngzXQlcrF"
      }
    },
    {
      "cell_type": "code",
      "source": [
        "# Count the number of unique tags\n",
        "unique_tags_original = tags_df.select(\"tag\").distinct().count()\n",
        "unique_tags_sorted = sorted_avg_ratings.select(\"tag\").distinct().count()\n",
        "\n",
        "# Check if the numbers are equal\n",
        "if unique_tags_original == unique_tags_sorted:\n",
        "    print(\"The number of unique tags is the same in both DataFrames.\")\n",
        "else:\n",
        "    print(\"The number of unique tags differs between the DataFrames.\")\n",
        "    print(f\"Original: {unique_tags_original}, Sorted: {unique_tags_sorted}\")\n"
      ],
      "metadata": {
        "colab": {
          "base_uri": "https://localhost:8080/"
        },
        "id": "Hs1otDs6lS2E",
        "outputId": "4c95037d-fa20-46f5-c383-ded8c9772012"
      },
      "execution_count": 16,
      "outputs": [
        {
          "output_type": "stream",
          "name": "stdout",
          "text": [
            "The number of unique tags is the same in both DataFrames.\n"
          ]
        }
      ]
    },
    {
      "cell_type": "code",
      "source": [
        "unique_tags_original"
      ],
      "metadata": {
        "colab": {
          "base_uri": "https://localhost:8080/"
        },
        "id": "R9cIsSIrlTzJ",
        "outputId": "bb703cf7-e553-4e7d-ea71-8cbd45c27a97"
      },
      "execution_count": 17,
      "outputs": [
        {
          "output_type": "execute_result",
          "data": {
            "text/plain": [
              "1589"
            ]
          },
          "metadata": {},
          "execution_count": 17
        }
      ]
    },
    {
      "cell_type": "code",
      "source": [
        "unique_tags_sorted"
      ],
      "metadata": {
        "colab": {
          "base_uri": "https://localhost:8080/"
        },
        "id": "QB3Zs4RjlUCt",
        "outputId": "2a4403e6-bf86-4abd-916e-1b89c6fc8b2b"
      },
      "execution_count": 18,
      "outputs": [
        {
          "output_type": "execute_result",
          "data": {
            "text/plain": [
              "1589"
            ]
          },
          "metadata": {},
          "execution_count": 18
        }
      ]
    }
  ],
  "metadata": {
    "colab": {
      "provenance": []
    },
    "kernelspec": {
      "display_name": "Python 3",
      "name": "python3"
    },
    "language_info": {
      "name": "python"
    }
  },
  "nbformat": 4,
  "nbformat_minor": 0
}