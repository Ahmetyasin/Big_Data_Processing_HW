{
  "nbformat": 4,
  "nbformat_minor": 0,
  "metadata": {
    "colab": {
      "provenance": []
    },
    "kernelspec": {
      "name": "python3",
      "display_name": "Python 3"
    },
    "language_info": {
      "name": "python"
    }
  },
  "cells": [
    {
      "cell_type": "code",
      "execution_count": 1,
      "metadata": {
        "id": "ZghbZfJa7X98"
      },
      "outputs": [],
      "source": [
        "!apt-get install openjdk-8-jdk-headless -qq > /dev/null\n",
        "!wget -q https://archive.apache.org/dist/spark/spark-3.2.4/spark-3.2.4-bin-hadoop3.2.tgz\n",
        "!tar xf spark-3.2.4-bin-hadoop3.2.tgz\n",
        "!pip install -q findspark"
      ]
    },
    {
      "cell_type": "code",
      "source": [
        "import os\n",
        "os.environ[\"JAVA_HOME\"] = \"/usr/lib/jvm/java-8-openjdk-amd64\"\n",
        "os.environ[\"SPARK_HOME\"] = \"/content/spark-3.2.4-bin-hadoop3.2\""
      ],
      "metadata": {
        "id": "mBZ_ogOqMMtu"
      },
      "execution_count": 2,
      "outputs": []
    },
    {
      "cell_type": "code",
      "source": [
        "import findspark\n",
        "findspark.init()\n",
        "findspark.find()"
      ],
      "metadata": {
        "colab": {
          "base_uri": "https://localhost:8080/",
          "height": 35
        },
        "id": "rtlrqrKKMPUC",
        "outputId": "3c5562e0-5146-49e1-df50-d893ab7a3d1d"
      },
      "execution_count": 3,
      "outputs": [
        {
          "output_type": "execute_result",
          "data": {
            "text/plain": [
              "'/content/spark-3.2.4-bin-hadoop3.2'"
            ],
            "application/vnd.google.colaboratory.intrinsic+json": {
              "type": "string"
            }
          },
          "metadata": {},
          "execution_count": 3
        }
      ]
    },
    {
      "cell_type": "code",
      "source": [
        "from pyspark.sql import SparkSession\n",
        "from pyspark.ml import Pipeline\n",
        "from pyspark.ml.feature import VectorAssembler\n",
        "from pyspark.ml.classification import RandomForestClassifier, GBTClassifier\n",
        "from pyspark.ml.evaluation import MulticlassClassificationEvaluator\n",
        "from pyspark.ml.tuning import CrossValidator, ParamGridBuilder\n",
        "\n",
        "# Initialize Spark Session\n",
        "spark = SparkSession.builder.appName(\"ClassificationExample\").getOrCreate()\n",
        "\n",
        "# Load and parse the data file, converting it to a DataFrame.\n",
        "data = spark.read.csv(\"leaf.csv\", header=False, inferSchema=True)"
      ],
      "metadata": {
        "id": "BdF1uMCJOCBr"
      },
      "execution_count": 9,
      "outputs": []
    },
    {
      "cell_type": "code",
      "source": [
        "data.show(5)"
      ],
      "metadata": {
        "colab": {
          "base_uri": "https://localhost:8080/"
        },
        "id": "vQkWVxaEOXd2",
        "outputId": "f8515ee1-4006-4a13-b923-55d80223dcae"
      },
      "execution_count": 11,
      "outputs": [
        {
          "output_type": "stream",
          "name": "stdout",
          "text": [
            "+---+---+-------+------+-------+-------+-------+-------+---------+---------+---------+--------+---------+---------+---------+-------+\n",
            "|_c0|_c1|    _c2|   _c3|    _c4|    _c5|    _c6|    _c7|      _c8|      _c9|     _c10|    _c11|     _c12|     _c13|     _c14|   _c15|\n",
            "+---+---+-------+------+-------+-------+-------+-------+---------+---------+---------+--------+---------+---------+---------+-------+\n",
            "|  1|  1|0.72694|1.4742|0.32396|0.98535|    1.0|0.83592|0.0046566|0.0039465|  0.04779| 0.12795| 0.016108|0.0052323|2.7477E-4| 1.1756|\n",
            "|  1|  2|0.74173|1.5257|0.36116|0.98152|0.99825|0.79867|0.0052423|0.0050016|  0.02416|0.090476|0.0081195| 0.002708|7.4846E-5|0.69659|\n",
            "|  1|  3|0.76722|1.5725|0.38998|0.97755|    1.0|0.80812|0.0074573| 0.010121| 0.011897|0.057445|0.0032891|9.2068E-4|3.7886E-5|0.44348|\n",
            "|  1|  4|0.73797|1.4597|0.35376|0.97566|    1.0|0.81697|0.0068768|0.0086068|  0.01595|0.065491|0.0042707|0.0011544|6.6272E-5|0.58785|\n",
            "|  1|  5|0.82301|1.7707|0.44462|0.97698|    1.0|0.75493| 0.007428| 0.010042|0.0079379|0.045339|0.0020514|5.5986E-4|2.3504E-5|0.34214|\n",
            "+---+---+-------+------+-------+-------+-------+-------+---------+---------+---------+--------+---------+---------+---------+-------+\n",
            "only showing top 5 rows\n",
            "\n"
          ]
        }
      ]
    },
    {
      "cell_type": "code",
      "source": [
        "from pyspark.sql import SparkSession\n",
        "from pyspark.ml import Pipeline\n",
        "from pyspark.ml.feature import VectorAssembler\n",
        "from pyspark.ml.classification import RandomForestClassifier, DecisionTreeClassifier, LogisticRegression\n",
        "from pyspark.ml.evaluation import MulticlassClassificationEvaluator\n",
        "from pyspark.ml.tuning import CrossValidator, ParamGridBuilder\n",
        "\n",
        "# Initialize Spark Session\n",
        "spark = SparkSession.builder.appName(\"ClassificationExample\").getOrCreate()\n",
        "\n",
        "# Load and parse the data file, converting it to a DataFrame.\n",
        "data = spark.read.csv(\"leaf.csv\", header=False, inferSchema=True)\n",
        "\n",
        "# Rename the columns to the appropriate names\n",
        "old_columns = data.columns\n",
        "new_columns = [\n",
        "    \"Class\", \"SpecimenNumber\", \"Eccentricity\", \"AspectRatio\", \"Elongation\",\n",
        "    \"Solidity\", \"StochasticConvexity\", \"IsoperimetricFactor\", \"MaximalIndentationDepth\",\n",
        "    \"Lobedness\", \"AverageIntensity\", \"AverageContrast\", \"Smoothness\",\n",
        "    \"ThirdMoment\", \"Uniformity\", \"Entropy\"\n",
        "]\n",
        "\n",
        "for old, new in zip(old_columns, new_columns):\n",
        "    data = data.withColumnRenamed(old, new)\n",
        "\n",
        "# VectorAssembler to combine feature columns into a single vector column\n",
        "assembler = VectorAssembler(\n",
        "    inputCols=[\n",
        "        \"SpecimenNumber\", \"Eccentricity\", \"AspectRatio\", \"Elongation\",\n",
        "        \"Solidity\", \"StochasticConvexity\", \"IsoperimetricFactor\", \"MaximalIndentationDepth\",\n",
        "        \"Lobedness\", \"AverageIntensity\", \"AverageContrast\", \"Smoothness\",\n",
        "        \"ThirdMoment\", \"Uniformity\", \"Entropy\"\n",
        "    ],\n",
        "    outputCol=\"features\"\n",
        ")\n",
        "\n",
        "# Prepare the models with their parameters\n",
        "rf = RandomForestClassifier(labelCol=\"Class\", featuresCol=\"features\")\n",
        "dt = DecisionTreeClassifier(labelCol=\"Class\", featuresCol=\"features\")\n",
        "lr = LogisticRegression(labelCol=\"Class\", featuresCol=\"features\", maxIter=10)\n",
        "\n",
        "# ParamGrid for cross validation\n",
        "rf_paramGrid = ParamGridBuilder() \\\n",
        "    .addGrid(rf.numTrees, [10, 20, 30]) \\\n",
        "    .addGrid(rf.maxDepth, [5, 10]) \\\n",
        "    .build()\n",
        "\n",
        "dt_paramGrid = ParamGridBuilder() \\\n",
        "    .addGrid(dt.maxDepth, [5, 10, 15]) \\\n",
        "    .addGrid(dt.minInstancesPerNode, [1, 2, 4]) \\\n",
        "    .build()\n",
        "\n",
        "lr_paramGrid = ParamGridBuilder() \\\n",
        "    .addGrid(lr.regParam, [0.1, 0.01]) \\\n",
        "    .addGrid(lr.elasticNetParam, [0.0, 0.5, 1.0]) \\\n",
        "    .build()\n",
        "\n",
        "# Evaluator\n",
        "evaluator = MulticlassClassificationEvaluator(labelCol=\"Class\", predictionCol=\"prediction\", metricName=\"accuracy\")\n",
        "\n",
        "# CrossValidator\n",
        "crossval_rf = CrossValidator(estimator=rf,\n",
        "                             estimatorParamMaps=rf_paramGrid,\n",
        "                             evaluator=evaluator,\n",
        "                             numFolds=5)\n",
        "\n",
        "crossval_dt = CrossValidator(estimator=dt,\n",
        "                             estimatorParamMaps=dt_paramGrid,\n",
        "                             evaluator=evaluator,\n",
        "                             numFolds=5)\n",
        "\n",
        "crossval_lr = CrossValidator(estimator=lr,\n",
        "                             estimatorParamMaps=lr_paramGrid,\n",
        "                             evaluator=evaluator,\n",
        "                             numFolds=5)\n",
        "\n",
        "# Pipelines\n",
        "pipeline_rf = Pipeline(stages=[assembler, crossval_rf])\n",
        "pipeline_dt = Pipeline(stages=[assembler, crossval_dt])\n",
        "pipeline_lr = Pipeline(stages=[assembler, crossval_lr])\n",
        "\n",
        "# Train the models\n",
        "model_rf = pipeline_rf.fit(data)\n",
        "model_dt = pipeline_dt.fit(data)\n",
        "model_lr = pipeline_lr.fit(data)\n",
        "\n",
        "# Make predictions and evaluate accuracy\n",
        "accuracy_rf = evaluator.evaluate(model_rf.transform(data))\n",
        "accuracy_dt = evaluator.evaluate(model_dt.transform(data))\n",
        "accuracy_lr = evaluator.evaluate(model_lr.transform(data))\n",
        "\n",
        "# Fetch the best model's parameters\n",
        "best_rf_model = model_rf.stages[-1].bestModel\n",
        "best_dt_model = model_dt.stages[-1].bestModel\n",
        "best_lr_model = model_lr.stages[-1].bestModel\n",
        "\n",
        "print(\"Random Forest Classifier Best Params:\", best_rf_model.extractParamMap())\n",
        "print(\"Decision Tree Classifier Best Params:\", best_dt_model.extractParamMap())\n",
        "print(\"Logistic Regression Classifier Best Params:\", best_lr_model.extractParamMap())\n",
        "\n",
        "# Results Table\n",
        "results = [\n",
        "    (\"Random Forest Classifier\", str(best_rf_model.extractParamMap()), accuracy_rf),\n",
        "    (\"Decision Tree Classifier\", str(best_dt_model.extractParamMap()), accuracy_dt),\n",
        "    (\"Logistic Regression Classifier\", str(best_lr_model.extractParamMap()), accuracy_lr)\n",
        "]\n",
        "\n",
        "results_df = spark.createDataFrame(results, [\"Method\", \"Parameters\", \"Accuracy\"])\n",
        "results_df.show()\n",
        "\n",
        "# Stop the Spark session\n",
        "spark.stop()\n"
      ],
      "metadata": {
        "colab": {
          "base_uri": "https://localhost:8080/"
        },
        "id": "i7o-tEh1MQLa",
        "outputId": "33b3e2da-150a-418c-a528-f7cff64a6de6"
      },
      "execution_count": 13,
      "outputs": [
        {
          "output_type": "stream",
          "name": "stdout",
          "text": [
            "Random Forest Classifier Best Params: {Param(parent='RandomForestClassifier_74051f6bbcb2', name='bootstrap', doc='Whether bootstrap samples are used when building trees.'): True, Param(parent='RandomForestClassifier_74051f6bbcb2', name='cacheNodeIds', doc='If false, the algorithm will pass trees to executors to match instances with nodes. If true, the algorithm will cache node IDs for each instance. Caching can speed up training of deeper trees. Users can set how often should the cache be checkpointed or disable it by setting checkpointInterval.'): False, Param(parent='RandomForestClassifier_74051f6bbcb2', name='checkpointInterval', doc='set checkpoint interval (>= 1) or disable checkpoint (-1). E.g. 10 means that the cache will get checkpointed every 10 iterations. Note: this setting will be ignored if the checkpoint directory is not set in the SparkContext.'): 10, Param(parent='RandomForestClassifier_74051f6bbcb2', name='featureSubsetStrategy', doc=\"The number of features to consider for splits at each tree node. Supported options: 'auto' (choose automatically for task: If numTrees == 1, set to 'all'. If numTrees > 1 (forest), set to 'sqrt' for classification and to 'onethird' for regression), 'all' (use all features), 'onethird' (use 1/3 of the features), 'sqrt' (use sqrt(number of features)), 'log2' (use log2(number of features)), 'n' (when n is in the range (0, 1.0], use n * number of features. When n is in the range (1, number of features), use n features). default = 'auto'\"): 'auto', Param(parent='RandomForestClassifier_74051f6bbcb2', name='featuresCol', doc='features column name.'): 'features', Param(parent='RandomForestClassifier_74051f6bbcb2', name='impurity', doc='Criterion used for information gain calculation (case-insensitive). Supported options: entropy, gini'): 'gini', Param(parent='RandomForestClassifier_74051f6bbcb2', name='labelCol', doc='label column name.'): 'Class', Param(parent='RandomForestClassifier_74051f6bbcb2', name='leafCol', doc='Leaf indices column name. Predicted leaf index of each instance in each tree by preorder.'): '', Param(parent='RandomForestClassifier_74051f6bbcb2', name='maxBins', doc='Max number of bins for discretizing continuous features.  Must be >=2 and >= number of categories for any categorical feature.'): 32, Param(parent='RandomForestClassifier_74051f6bbcb2', name='maxDepth', doc='Maximum depth of the tree. (>= 0) E.g., depth 0 means 1 leaf node; depth 1 means 1 internal node + 2 leaf nodes. Must be in range [0, 30].'): 10, Param(parent='RandomForestClassifier_74051f6bbcb2', name='maxMemoryInMB', doc='Maximum memory in MB allocated to histogram aggregation. If too small, then 1 node will be split per iteration, and its aggregates may exceed this size.'): 256, Param(parent='RandomForestClassifier_74051f6bbcb2', name='minInfoGain', doc='Minimum information gain for a split to be considered at a tree node.'): 0.0, Param(parent='RandomForestClassifier_74051f6bbcb2', name='minInstancesPerNode', doc='Minimum number of instances each child must have after split. If a split causes the left or right child to have fewer than minInstancesPerNode, the split will be discarded as invalid. Should be >= 1.'): 1, Param(parent='RandomForestClassifier_74051f6bbcb2', name='minWeightFractionPerNode', doc='Minimum fraction of the weighted sample count that each child must have after split. If a split causes the fraction of the total weight in the left or right child to be less than minWeightFractionPerNode, the split will be discarded as invalid. Should be in interval [0.0, 0.5).'): 0.0, Param(parent='RandomForestClassifier_74051f6bbcb2', name='numTrees', doc='Number of trees to train (>= 1).'): 30, Param(parent='RandomForestClassifier_74051f6bbcb2', name='predictionCol', doc='prediction column name.'): 'prediction', Param(parent='RandomForestClassifier_74051f6bbcb2', name='probabilityCol', doc='Column name for predicted class conditional probabilities. Note: Not all models output well-calibrated probability estimates! These probabilities should be treated as confidences, not precise probabilities.'): 'probability', Param(parent='RandomForestClassifier_74051f6bbcb2', name='rawPredictionCol', doc='raw prediction (a.k.a. confidence) column name.'): 'rawPrediction', Param(parent='RandomForestClassifier_74051f6bbcb2', name='seed', doc='random seed.'): 35926711538001616, Param(parent='RandomForestClassifier_74051f6bbcb2', name='subsamplingRate', doc='Fraction of the training data used for learning each decision tree, in range (0, 1].'): 1.0}\n",
            "Decision Tree Classifier Best Params: {Param(parent='DecisionTreeClassifier_9f9be5f8f69d', name='cacheNodeIds', doc='If false, the algorithm will pass trees to executors to match instances with nodes. If true, the algorithm will cache node IDs for each instance. Caching can speed up training of deeper trees. Users can set how often should the cache be checkpointed or disable it by setting checkpointInterval.'): False, Param(parent='DecisionTreeClassifier_9f9be5f8f69d', name='checkpointInterval', doc='set checkpoint interval (>= 1) or disable checkpoint (-1). E.g. 10 means that the cache will get checkpointed every 10 iterations. Note: this setting will be ignored if the checkpoint directory is not set in the SparkContext.'): 10, Param(parent='DecisionTreeClassifier_9f9be5f8f69d', name='featuresCol', doc='features column name.'): 'features', Param(parent='DecisionTreeClassifier_9f9be5f8f69d', name='impurity', doc='Criterion used for information gain calculation (case-insensitive). Supported options: entropy, gini'): 'gini', Param(parent='DecisionTreeClassifier_9f9be5f8f69d', name='labelCol', doc='label column name.'): 'Class', Param(parent='DecisionTreeClassifier_9f9be5f8f69d', name='leafCol', doc='Leaf indices column name. Predicted leaf index of each instance in each tree by preorder.'): '', Param(parent='DecisionTreeClassifier_9f9be5f8f69d', name='maxBins', doc='Max number of bins for discretizing continuous features.  Must be >=2 and >= number of categories for any categorical feature.'): 32, Param(parent='DecisionTreeClassifier_9f9be5f8f69d', name='maxDepth', doc='Maximum depth of the tree. (>= 0) E.g., depth 0 means 1 leaf node; depth 1 means 1 internal node + 2 leaf nodes. Must be in range [0, 30].'): 10, Param(parent='DecisionTreeClassifier_9f9be5f8f69d', name='maxMemoryInMB', doc='Maximum memory in MB allocated to histogram aggregation. If too small, then 1 node will be split per iteration, and its aggregates may exceed this size.'): 256, Param(parent='DecisionTreeClassifier_9f9be5f8f69d', name='minInfoGain', doc='Minimum information gain for a split to be considered at a tree node.'): 0.0, Param(parent='DecisionTreeClassifier_9f9be5f8f69d', name='minInstancesPerNode', doc='Minimum number of instances each child must have after split. If a split causes the left or right child to have fewer than minInstancesPerNode, the split will be discarded as invalid. Should be >= 1.'): 1, Param(parent='DecisionTreeClassifier_9f9be5f8f69d', name='minWeightFractionPerNode', doc='Minimum fraction of the weighted sample count that each child must have after split. If a split causes the fraction of the total weight in the left or right child to be less than minWeightFractionPerNode, the split will be discarded as invalid. Should be in interval [0.0, 0.5).'): 0.0, Param(parent='DecisionTreeClassifier_9f9be5f8f69d', name='predictionCol', doc='prediction column name.'): 'prediction', Param(parent='DecisionTreeClassifier_9f9be5f8f69d', name='probabilityCol', doc='Column name for predicted class conditional probabilities. Note: Not all models output well-calibrated probability estimates! These probabilities should be treated as confidences, not precise probabilities.'): 'probability', Param(parent='DecisionTreeClassifier_9f9be5f8f69d', name='rawPredictionCol', doc='raw prediction (a.k.a. confidence) column name.'): 'rawPrediction', Param(parent='DecisionTreeClassifier_9f9be5f8f69d', name='seed', doc='random seed.'): -8511577760746087701}\n",
            "Logistic Regression Classifier Best Params: {Param(parent='LogisticRegression_37181d3e828f', name='aggregationDepth', doc='suggested depth for treeAggregate (>= 2).'): 2, Param(parent='LogisticRegression_37181d3e828f', name='elasticNetParam', doc='the ElasticNet mixing parameter, in range [0, 1]. For alpha = 0, the penalty is an L2 penalty. For alpha = 1, it is an L1 penalty.'): 0.0, Param(parent='LogisticRegression_37181d3e828f', name='family', doc='The name of family which is a description of the label distribution to be used in the model. Supported options: auto, binomial, multinomial'): 'auto', Param(parent='LogisticRegression_37181d3e828f', name='featuresCol', doc='features column name.'): 'features', Param(parent='LogisticRegression_37181d3e828f', name='fitIntercept', doc='whether to fit an intercept term.'): True, Param(parent='LogisticRegression_37181d3e828f', name='labelCol', doc='label column name.'): 'Class', Param(parent='LogisticRegression_37181d3e828f', name='maxBlockSizeInMB', doc='maximum memory in MB for stacking input data into blocks. Data is stacked within partitions. If more than remaining data size in a partition then it is adjusted to the data size. Default 0.0 represents choosing optimal value, depends on specific algorithm. Must be >= 0.'): 0.0, Param(parent='LogisticRegression_37181d3e828f', name='maxIter', doc='max number of iterations (>= 0).'): 10, Param(parent='LogisticRegression_37181d3e828f', name='predictionCol', doc='prediction column name.'): 'prediction', Param(parent='LogisticRegression_37181d3e828f', name='probabilityCol', doc='Column name for predicted class conditional probabilities. Note: Not all models output well-calibrated probability estimates! These probabilities should be treated as confidences, not precise probabilities.'): 'probability', Param(parent='LogisticRegression_37181d3e828f', name='rawPredictionCol', doc='raw prediction (a.k.a. confidence) column name.'): 'rawPrediction', Param(parent='LogisticRegression_37181d3e828f', name='regParam', doc='regularization parameter (>= 0).'): 0.01, Param(parent='LogisticRegression_37181d3e828f', name='standardization', doc='whether to standardize the training features before fitting the model.'): True, Param(parent='LogisticRegression_37181d3e828f', name='threshold', doc='Threshold in binary classification prediction, in range [0, 1]. If threshold and thresholds are both set, they must match.e.g. if threshold is p, then thresholds must be equal to [1-p, p].'): 0.5, Param(parent='LogisticRegression_37181d3e828f', name='tol', doc='the convergence tolerance for iterative algorithms (>= 0).'): 1e-06}\n",
            "+--------------------+--------------------+------------------+\n",
            "|              Method|          Parameters|          Accuracy|\n",
            "+--------------------+--------------------+------------------+\n",
            "|Random Forest Cla...|{Param(parent='Ra...|0.9941176470588236|\n",
            "|Decision Tree Cla...|{Param(parent='De...|0.9352941176470588|\n",
            "|Logistic Regressi...|{Param(parent='Lo...|0.8205882352941176|\n",
            "+--------------------+--------------------+------------------+\n",
            "\n"
          ]
        }
      ]
    },
    {
      "cell_type": "code",
      "source": [
        "best_rf_params = best_rf_model.extractParamMap()\n",
        "best_dt_params = best_dt_model.extractParamMap()\n",
        "best_lr_params = best_lr_model.extractParamMap()\n",
        "\n",
        "\n",
        "# Results Table\n",
        "results = [\n",
        "    (\"Random Forest Classifier\", {param.name: best_rf_params[param] for param in best_rf_params}, accuracy_rf),\n",
        "    (\"Decision Tree Classifier\", {param.name: best_dt_params[param] for param in best_dt_params}, accuracy_dt),\n",
        "    (\"Logistic Regression Classifier\", {param.name: best_lr_params[param] for param in best_lr_params}, accuracy_lr)\n",
        "]\n",
        "\n",
        "# Stop the Spark session\n",
        "spark.stop()"
      ],
      "metadata": {
        "id": "ZmeLEKO6akt0"
      },
      "execution_count": 36,
      "outputs": []
    },
    {
      "cell_type": "code",
      "source": [
        "results"
      ],
      "metadata": {
        "colab": {
          "base_uri": "https://localhost:8080/"
        },
        "id": "hzhYFk-Te1o2",
        "outputId": "b16ea592-5c34-4472-a350-930b5bb1bbad"
      },
      "execution_count": 37,
      "outputs": [
        {
          "output_type": "execute_result",
          "data": {
            "text/plain": [
              "[('Random Forest Classifier',\n",
              "  {'bootstrap': True,\n",
              "   'cacheNodeIds': False,\n",
              "   'checkpointInterval': 10,\n",
              "   'featureSubsetStrategy': 'auto',\n",
              "   'featuresCol': 'features',\n",
              "   'impurity': 'gini',\n",
              "   'labelCol': 'Class',\n",
              "   'leafCol': '',\n",
              "   'maxBins': 32,\n",
              "   'maxDepth': 10,\n",
              "   'maxMemoryInMB': 256,\n",
              "   'minInfoGain': 0.0,\n",
              "   'minInstancesPerNode': 1,\n",
              "   'minWeightFractionPerNode': 0.0,\n",
              "   'numTrees': 30,\n",
              "   'predictionCol': 'prediction',\n",
              "   'probabilityCol': 'probability',\n",
              "   'rawPredictionCol': 'rawPrediction',\n",
              "   'seed': 35926711538001616,\n",
              "   'subsamplingRate': 1.0},\n",
              "  0.9941176470588236),\n",
              " ('Decision Tree Classifier',\n",
              "  {'cacheNodeIds': False,\n",
              "   'checkpointInterval': 10,\n",
              "   'featuresCol': 'features',\n",
              "   'impurity': 'gini',\n",
              "   'labelCol': 'Class',\n",
              "   'leafCol': '',\n",
              "   'maxBins': 32,\n",
              "   'maxDepth': 10,\n",
              "   'maxMemoryInMB': 256,\n",
              "   'minInfoGain': 0.0,\n",
              "   'minInstancesPerNode': 1,\n",
              "   'minWeightFractionPerNode': 0.0,\n",
              "   'predictionCol': 'prediction',\n",
              "   'probabilityCol': 'probability',\n",
              "   'rawPredictionCol': 'rawPrediction',\n",
              "   'seed': -8511577760746087701},\n",
              "  0.9352941176470588),\n",
              " ('Logistic Regression Classifier',\n",
              "  {'aggregationDepth': 2,\n",
              "   'elasticNetParam': 0.0,\n",
              "   'family': 'auto',\n",
              "   'featuresCol': 'features',\n",
              "   'fitIntercept': True,\n",
              "   'labelCol': 'Class',\n",
              "   'maxBlockSizeInMB': 0.0,\n",
              "   'maxIter': 10,\n",
              "   'predictionCol': 'prediction',\n",
              "   'probabilityCol': 'probability',\n",
              "   'rawPredictionCol': 'rawPrediction',\n",
              "   'regParam': 0.01,\n",
              "   'standardization': True,\n",
              "   'threshold': 0.5,\n",
              "   'tol': 1e-06},\n",
              "  0.8205882352941176)]"
            ]
          },
          "metadata": {},
          "execution_count": 37
        }
      ]
    }
  ]
}